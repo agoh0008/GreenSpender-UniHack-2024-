{
 "cells": [
  {
   "cell_type": "markdown",
   "metadata": {},
   "source": [
    "# 1. Install Package"
   ]
  },
  {
   "cell_type": "code",
   "execution_count": null,
   "metadata": {},
   "outputs": [],
   "source": [
    "pip install boto3\n",
    "pip install watchdog\n"
   ]
  },
  {
   "cell_type": "markdown",
   "metadata": {},
   "source": [
    "# 2. Upload Image to S3"
   ]
  },
  {
   "cell_type": "code",
   "execution_count": null,
   "metadata": {},
   "outputs": [],
   "source": [
    "import boto3\n",
    "import os\n",
    "import time\n",
    "from watchdog.observers import Observer\n",
    "from watchdog.events import FileSystemEventHandler"
   ]
  },
  {
   "cell_type": "code",
   "execution_count": null,
   "metadata": {},
   "outputs": [],
   "source": [
    "# Initialize the S3 client\n",
    "session = boto3.Session(profile_name='profile1')\n",
    "s3 = session.client('s3')\n",
    "\n",
    "# Define the S3 bucket name and the local folder path\n",
    "bucket_name = 'image-storage--testing'\n",
    "local_folder = r'C:\\Users\\chuth\\OneDrive\\ImageTest'\n",
    "# Define the path to the LINK.txt file\n",
    "link_file = os.path.join(local_folder, 'LINK.txt')\n",
    "\n",
    "# Function to upload an image to S3\n",
    "def upload_image_to_s3(image_file, bucket_name):\n",
    "    # Generate the key name for the image\n",
    "    key_name = os.path.join('images', os.path.basename(image_file))\n",
    "    # Upload the image to S3\n",
    "    try:\n",
    "        with open(image_file, 'rb') as image_data:\n",
    "            s3.upload_fileobj(image_data, bucket_name, key_name)\n",
    "        print(f\"Image '{image_file}' uploaded successfully to S3!\")\n",
    "    except FileNotFoundError:\n",
    "        print(f\"Error uploading image '{image_file}' to S3: No such file or directory\")\n",
    "    except Exception as e:\n",
    "        print(f\"Error uploading image '{image_file}' to S3:\", e)"
   ]
  },
  {
   "cell_type": "code",
   "execution_count": null,
   "metadata": {},
   "outputs": [],
   "source": [
    "# Function to get the URL link of an object in S3\n",
    "def get_s3_object_url(bucket, key):\n",
    "    return f\"https://{bucket}.s3.amazonaws.com/{key}\"\n",
    "  \n",
    "# Event handler class to monitor changes in the local folder\n",
    "class ImageUploadHandler(FileSystemEventHandler):\n",
    "    def __init__(self):\n",
    "        self.uploaded_files = set()\n",
    "\n",
    "    def on_created(self, event):\n",
    "        if event.is_directory:\n",
    "            return\n",
    "        filename = event.src_path\n",
    "        if filename.endswith(('.jpg', '.jpeg', '.png', '.gif')) and filename not in self.uploaded_files:\n",
    "            time.sleep(1)\n",
    "            upload_image_to_s3(filename, bucket_name)\n",
    "            time.sleep(2)\n",
    "            url = get_s3_object_url(bucket_name, f'images/{os.path.basename(filename)}')\n",
    "            with open(link_file, 'a') as f:\n",
    "                f.write(url + '\\n')\n",
    "            self.uploaded_files.add(filename)\n",
    "\n",
    "# Function to start monitoring the local folder for image uploads\n",
    "def start_monitoring():\n",
    "    event_handler = ImageUploadHandler()\n",
    "    observer = Observer()\n",
    "    observer.schedule(event_handler, local_folder, recursive=False)\n",
    "    observer.start()\n",
    "    try:\n",
    "        while True:\n",
    "            time.sleep(1)\n",
    "    except KeyboardInterrupt:\n",
    "        observer.stop()\n",
    "    observer.join()\n",
    "\n",
    "# Start monitoring the local folder\n",
    "start_monitoring()\n"
   ]
  }
 ],
 "metadata": {
  "kernelspec": {
   "display_name": "Python 3",
   "language": "python",
   "name": "python3"
  },
  "language_info": {
   "codemirror_mode": {
    "name": "ipython",
    "version": 3
   },
   "file_extension": ".py",
   "mimetype": "text/x-python",
   "name": "python",
   "nbconvert_exporter": "python",
   "pygments_lexer": "ipython3",
   "version": "3.9.13"
  }
 },
 "nbformat": 4,
 "nbformat_minor": 2
}
